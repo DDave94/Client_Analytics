{
  "nbformat": 4,
  "nbformat_minor": 0,
  "metadata": {
    "colab": {
      "name": "MarketingCampaign.ipynb",
      "provenance": [],
      "collapsed_sections": [
        "H42HClA-OKXF"
      ]
    },
    "kernelspec": {
      "name": "python3",
      "display_name": "Python 3"
    },
    "language_info": {
      "name": "python"
    }
  },
  "cells": [
    {
      "cell_type": "markdown",
      "metadata": {
        "id": "BmcP_ch-Ji5u"
      },
      "source": [
        "# Case Study : Marketing Campaign \n",
        "A retailer wants to run a targeted marketing campaign. Their goal is to identify and send $5 to customers who shop inconsistently. \n",
        "\n",
        "### Analysis Steps: \n",
        "##### Step 1: Calculate the consistency of each customer\n",
        "##### Step 2: Calculate the value of each customer\n",
        "##### Step 3: Determine the Target Customer Segement\n",
        "##### Step 4: Calculate ROI "
      ]
    },
    {
      "cell_type": "code",
      "metadata": {
        "id": "FHqRtVyZJU4p"
      },
      "source": [
        "# Libs\n",
        "import pandas as pd\n",
        "import os\n",
        "import glob\n",
        "import matplotlib.pyplot as plt"
      ],
      "execution_count": 4,
      "outputs": []
    },
    {
      "cell_type": "markdown",
      "metadata": {
        "id": "hV1F0Gs8Kux7"
      },
      "source": [
        "## Importing and Setting up data"
      ]
    },
    {
      "cell_type": "code",
      "metadata": {
        "colab": {
          "base_uri": "https://localhost:8080/"
        },
        "id": "bYqZBvUXKt3K",
        "outputId": "ae027013-9452-4cfc-e506-fb5286e903c8"
      },
      "source": [
        "# Loading Drive\n",
        "from google.colab import drive\n",
        "drive.mount('/content/drive')"
      ],
      "execution_count": 5,
      "outputs": [
        {
          "output_type": "stream",
          "name": "stdout",
          "text": [
            "Mounted at /content/drive\n"
          ]
        }
      ]
    },
    {
      "cell_type": "code",
      "metadata": {
        "id": "MsYliYbpVwsY"
      },
      "source": [
        "# use glob to get all the csv files in the folder\n",
        "path = '/content/drive/MyDrive/Colab Notebooks/Bond Brand - Case Study /dunnhumby_data'\n",
        "csv_files = glob.glob(os.path.join(path, \"*.csv\")) \n",
        "\n",
        "raw_data = pd.read_csv(csv_files[0])\n",
        "raw_data.head()\n",
        "\n",
        "# loop over the list of csv files\n",
        "for i in range(1,len(csv_files)):\n",
        "          \n",
        "    # read the csv file\n",
        "    df = pd.read_csv(csv_files[i])\n",
        "\n",
        "    raw_data = pd.concat([raw_data,df], axis = 0, ignore_index= True)\n"
      ],
      "execution_count": 6,
      "outputs": []
    },
    {
      "cell_type": "code",
      "metadata": {
        "colab": {
          "base_uri": "https://localhost:8080/"
        },
        "id": "IJyEKUrUn-AW",
        "outputId": "5aa38b58-145c-4ecb-b8fa-41d6547da63e"
      },
      "source": [
        "raw_data.shape"
      ],
      "execution_count": 7,
      "outputs": [
        {
          "output_type": "execute_result",
          "data": {
            "text/plain": [
              "(3158469, 22)"
            ]
          },
          "metadata": {},
          "execution_count": 7
        }
      ]
    },
    {
      "cell_type": "markdown",
      "metadata": {
        "id": "x1b4Ba64ok8N"
      },
      "source": [
        "## Exploratory Data Analysis"
      ]
    },
    {
      "cell_type": "code",
      "metadata": {
        "colab": {
          "base_uri": "https://localhost:8080/"
        },
        "id": "bR5VnYLuoqzU",
        "outputId": "44fcc7f0-9034-4b58-ffd6-cfe94f313d37"
      },
      "source": [
        "# Looking at data structure \n",
        "raw_data.columns"
      ],
      "execution_count": 8,
      "outputs": [
        {
          "output_type": "execute_result",
          "data": {
            "text/plain": [
              "Index(['SHOP_WEEK', 'SHOP_DATE', 'SHOP_WEEKDAY', 'SHOP_HOUR', 'QUANTITY',\n",
              "       'SPEND', 'PROD_CODE', 'PROD_CODE_10', 'PROD_CODE_20', 'PROD_CODE_30',\n",
              "       'PROD_CODE_40', 'CUST_CODE', 'CUST_PRICE_SENSITIVITY', 'CUST_LIFESTAGE',\n",
              "       'BASKET_ID', 'BASKET_SIZE', 'BASKET_PRICE_SENSITIVITY', 'BASKET_TYPE',\n",
              "       'BASKET_DOMINANT_MISSION', 'STORE_CODE', 'STORE_FORMAT',\n",
              "       'STORE_REGION'],\n",
              "      dtype='object')"
            ]
          },
          "metadata": {},
          "execution_count": 8
        }
      ]
    },
    {
      "cell_type": "code",
      "metadata": {
        "colab": {
          "base_uri": "https://localhost:8080/"
        },
        "id": "DQ7l7jNWouoV",
        "outputId": "6cbc7814-c6e0-4769-d536-f4c34467f9cd"
      },
      "source": [
        "# Verifying that we have 5000 customers\n",
        "num_customers = raw_data['CUST_CODE'].nunique()\n",
        "print(f\"There are {num_customers} unique customers\")"
      ],
      "execution_count": 9,
      "outputs": [
        {
          "output_type": "stream",
          "name": "stdout",
          "text": [
            "There are 5000 unique customers\n"
          ]
        }
      ]
    },
    {
      "cell_type": "code",
      "metadata": {
        "colab": {
          "base_uri": "https://localhost:8080/"
        },
        "id": "XfLY4vEBtHmX",
        "outputId": "c89fe189-27b2-45a8-e0e3-763106ca48a7"
      },
      "source": [
        "# Dropping transactions without customer code identification\n",
        "print(f\"There are {raw_data['CUST_CODE'].isna().sum()} records without customer code\")"
      ],
      "execution_count": 10,
      "outputs": [
        {
          "output_type": "stream",
          "name": "stdout",
          "text": [
            "There are 617450 records without customer code\n"
          ]
        }
      ]
    },
    {
      "cell_type": "code",
      "metadata": {
        "colab": {
          "base_uri": "https://localhost:8080/"
        },
        "id": "iEzwejo_vCTu",
        "outputId": "93e164f9-6535-430e-8074-af1201c12529"
      },
      "source": [
        "# What are various customer life stages\n",
        "raw_data['CUST_LIFESTAGE'].unique()"
      ],
      "execution_count": 11,
      "outputs": [
        {
          "output_type": "execute_result",
          "data": {
            "text/plain": [
              "array(['OT', 'YF', nan, 'PE', 'OA', 'YA', 'OF'], dtype=object)"
            ]
          },
          "metadata": {},
          "execution_count": 11
        }
      ]
    },
    {
      "cell_type": "code",
      "metadata": {
        "colab": {
          "base_uri": "https://localhost:8080/"
        },
        "id": "wbFU4_Axeu5e",
        "outputId": "52334ffb-63f9-4b24-ab04-560c076e8473"
      },
      "source": [
        "raw_data['BASKET_DOMINANT_MISSION'].unique()"
      ],
      "execution_count": 12,
      "outputs": [
        {
          "output_type": "execute_result",
          "data": {
            "text/plain": [
              "array(['Mixed', 'Fresh', 'Grocery', 'XX', 'Nonfood'], dtype=object)"
            ]
          },
          "metadata": {},
          "execution_count": 12
        }
      ]
    },
    {
      "cell_type": "markdown",
      "metadata": {
        "id": "v-UdgR_tvC6u"
      },
      "source": [
        "## Data Preprocessing\n",
        "- Dropping rows where we don't have customer identifiers\n",
        "- Dropping columns \n",
        "    - BASKET_ID, BASKET_PRICE_SENSITIVITY, PROD_CODE, PROD_CODE_10, PROD_CODE_20, PROD_CODE_30, PROD_CODE_40"
      ]
    },
    {
      "cell_type": "code",
      "metadata": {
        "colab": {
          "base_uri": "https://localhost:8080/"
        },
        "id": "IFrVTMixuQZW",
        "outputId": "e495f05f-99db-498b-aea0-f42ea05db531"
      },
      "source": [
        "data = raw_data[raw_data['CUST_CODE'].notna()]\n",
        "data.shape"
      ],
      "execution_count": 13,
      "outputs": [
        {
          "output_type": "execute_result",
          "data": {
            "text/plain": [
              "(2541019, 22)"
            ]
          },
          "metadata": {},
          "execution_count": 13
        }
      ]
    },
    {
      "cell_type": "code",
      "metadata": {
        "colab": {
          "base_uri": "https://localhost:8080/"
        },
        "id": "hTgzttHdwl8f",
        "outputId": "5e345c6b-eefa-4adb-f1a8-8019819f93b5"
      },
      "source": [
        "data = data.drop(columns = ['BASKET_ID', 'BASKET_PRICE_SENSITIVITY', 'PROD_CODE', 'PROD_CODE_10', 'PROD_CODE_20', 'PROD_CODE_30', 'PROD_CODE_40'])\n",
        "data.shape"
      ],
      "execution_count": 14,
      "outputs": [
        {
          "output_type": "execute_result",
          "data": {
            "text/plain": [
              "(2541019, 15)"
            ]
          },
          "metadata": {},
          "execution_count": 14
        }
      ]
    },
    {
      "cell_type": "markdown",
      "metadata": {
        "id": "SUwZbuN5KinX"
      },
      "source": [
        "## Step 1: Calculating the consistency of each customer\n",
        "\n",
        "Clumpiness - Measure of binge-y a customer is. Clumpy customers are more valuable to businesses long-term"
      ]
    },
    {
      "cell_type": "code",
      "metadata": {
        "colab": {
          "base_uri": "https://localhost:8080/",
          "height": 204
        },
        "id": "x4NK1lP2rFbc",
        "outputId": "ee2ac050-869c-470f-c956-5c32219e6c0b"
      },
      "source": [
        "data.head()"
      ],
      "execution_count": 15,
      "outputs": [
        {
          "output_type": "execute_result",
          "data": {
            "text/html": [
              "<div>\n",
              "<style scoped>\n",
              "    .dataframe tbody tr th:only-of-type {\n",
              "        vertical-align: middle;\n",
              "    }\n",
              "\n",
              "    .dataframe tbody tr th {\n",
              "        vertical-align: top;\n",
              "    }\n",
              "\n",
              "    .dataframe thead th {\n",
              "        text-align: right;\n",
              "    }\n",
              "</style>\n",
              "<table border=\"1\" class=\"dataframe\">\n",
              "  <thead>\n",
              "    <tr style=\"text-align: right;\">\n",
              "      <th></th>\n",
              "      <th>SHOP_WEEK</th>\n",
              "      <th>SHOP_DATE</th>\n",
              "      <th>SHOP_WEEKDAY</th>\n",
              "      <th>SHOP_HOUR</th>\n",
              "      <th>QUANTITY</th>\n",
              "      <th>SPEND</th>\n",
              "      <th>CUST_CODE</th>\n",
              "      <th>CUST_PRICE_SENSITIVITY</th>\n",
              "      <th>CUST_LIFESTAGE</th>\n",
              "      <th>BASKET_SIZE</th>\n",
              "      <th>BASKET_TYPE</th>\n",
              "      <th>BASKET_DOMINANT_MISSION</th>\n",
              "      <th>STORE_CODE</th>\n",
              "      <th>STORE_FORMAT</th>\n",
              "      <th>STORE_REGION</th>\n",
              "    </tr>\n",
              "  </thead>\n",
              "  <tbody>\n",
              "    <tr>\n",
              "      <th>0</th>\n",
              "      <td>200607</td>\n",
              "      <td>20060415</td>\n",
              "      <td>7</td>\n",
              "      <td>19</td>\n",
              "      <td>1</td>\n",
              "      <td>0.93</td>\n",
              "      <td>CUST0000410727</td>\n",
              "      <td>UM</td>\n",
              "      <td>OT</td>\n",
              "      <td>L</td>\n",
              "      <td>Full Shop</td>\n",
              "      <td>Mixed</td>\n",
              "      <td>STORE00001</td>\n",
              "      <td>LS</td>\n",
              "      <td>E02</td>\n",
              "    </tr>\n",
              "    <tr>\n",
              "      <th>1</th>\n",
              "      <td>200607</td>\n",
              "      <td>20060413</td>\n",
              "      <td>5</td>\n",
              "      <td>20</td>\n",
              "      <td>1</td>\n",
              "      <td>1.03</td>\n",
              "      <td>CUST0000634693</td>\n",
              "      <td>LA</td>\n",
              "      <td>YF</td>\n",
              "      <td>L</td>\n",
              "      <td>Top Up</td>\n",
              "      <td>Fresh</td>\n",
              "      <td>STORE00001</td>\n",
              "      <td>LS</td>\n",
              "      <td>E02</td>\n",
              "    </tr>\n",
              "    <tr>\n",
              "      <th>3</th>\n",
              "      <td>200607</td>\n",
              "      <td>20060415</td>\n",
              "      <td>7</td>\n",
              "      <td>19</td>\n",
              "      <td>1</td>\n",
              "      <td>3.07</td>\n",
              "      <td>CUST0000410727</td>\n",
              "      <td>UM</td>\n",
              "      <td>OT</td>\n",
              "      <td>L</td>\n",
              "      <td>Full Shop</td>\n",
              "      <td>Mixed</td>\n",
              "      <td>STORE00001</td>\n",
              "      <td>LS</td>\n",
              "      <td>E02</td>\n",
              "    </tr>\n",
              "    <tr>\n",
              "      <th>4</th>\n",
              "      <td>200607</td>\n",
              "      <td>20060415</td>\n",
              "      <td>7</td>\n",
              "      <td>19</td>\n",
              "      <td>1</td>\n",
              "      <td>4.81</td>\n",
              "      <td>CUST0000410727</td>\n",
              "      <td>UM</td>\n",
              "      <td>OT</td>\n",
              "      <td>L</td>\n",
              "      <td>Full Shop</td>\n",
              "      <td>Mixed</td>\n",
              "      <td>STORE00001</td>\n",
              "      <td>LS</td>\n",
              "      <td>E02</td>\n",
              "    </tr>\n",
              "    <tr>\n",
              "      <th>5</th>\n",
              "      <td>200607</td>\n",
              "      <td>20060412</td>\n",
              "      <td>4</td>\n",
              "      <td>19</td>\n",
              "      <td>1</td>\n",
              "      <td>0.28</td>\n",
              "      <td>CUST0000634693</td>\n",
              "      <td>LA</td>\n",
              "      <td>YF</td>\n",
              "      <td>M</td>\n",
              "      <td>Small Shop</td>\n",
              "      <td>Fresh</td>\n",
              "      <td>STORE00001</td>\n",
              "      <td>LS</td>\n",
              "      <td>E02</td>\n",
              "    </tr>\n",
              "  </tbody>\n",
              "</table>\n",
              "</div>"
            ],
            "text/plain": [
              "   SHOP_WEEK  SHOP_DATE  SHOP_WEEKDAY  ...  STORE_CODE  STORE_FORMAT  STORE_REGION\n",
              "0     200607   20060415             7  ...  STORE00001            LS           E02\n",
              "1     200607   20060413             5  ...  STORE00001            LS           E02\n",
              "3     200607   20060415             7  ...  STORE00001            LS           E02\n",
              "4     200607   20060415             7  ...  STORE00001            LS           E02\n",
              "5     200607   20060412             4  ...  STORE00001            LS           E02\n",
              "\n",
              "[5 rows x 15 columns]"
            ]
          },
          "metadata": {},
          "execution_count": 15
        }
      ]
    },
    {
      "cell_type": "code",
      "metadata": {
        "id": "MQAtB__IN0nx",
        "colab": {
          "base_uri": "https://localhost:8080/",
          "height": 419
        },
        "outputId": "61c51a54-642e-4578-be4b-d25c97b5a6dc"
      },
      "source": [
        "# Sorting data first by Customer Code and then by Shopping Date\n",
        "data_sorted = data.sort_values(['CUST_CODE', 'SHOP_DATE'])\n",
        "data_sorted"
      ],
      "execution_count": 16,
      "outputs": [
        {
          "output_type": "execute_result",
          "data": {
            "text/html": [
              "<div>\n",
              "<style scoped>\n",
              "    .dataframe tbody tr th:only-of-type {\n",
              "        vertical-align: middle;\n",
              "    }\n",
              "\n",
              "    .dataframe tbody tr th {\n",
              "        vertical-align: top;\n",
              "    }\n",
              "\n",
              "    .dataframe thead th {\n",
              "        text-align: right;\n",
              "    }\n",
              "</style>\n",
              "<table border=\"1\" class=\"dataframe\">\n",
              "  <thead>\n",
              "    <tr style=\"text-align: right;\">\n",
              "      <th></th>\n",
              "      <th>SHOP_WEEK</th>\n",
              "      <th>SHOP_DATE</th>\n",
              "      <th>SHOP_WEEKDAY</th>\n",
              "      <th>SHOP_HOUR</th>\n",
              "      <th>QUANTITY</th>\n",
              "      <th>SPEND</th>\n",
              "      <th>CUST_CODE</th>\n",
              "      <th>CUST_PRICE_SENSITIVITY</th>\n",
              "      <th>CUST_LIFESTAGE</th>\n",
              "      <th>BASKET_SIZE</th>\n",
              "      <th>BASKET_TYPE</th>\n",
              "      <th>BASKET_DOMINANT_MISSION</th>\n",
              "      <th>STORE_CODE</th>\n",
              "      <th>STORE_FORMAT</th>\n",
              "      <th>STORE_REGION</th>\n",
              "    </tr>\n",
              "  </thead>\n",
              "  <tbody>\n",
              "    <tr>\n",
              "      <th>1482669</th>\n",
              "      <td>200709</td>\n",
              "      <td>20070423</td>\n",
              "      <td>2</td>\n",
              "      <td>21</td>\n",
              "      <td>1</td>\n",
              "      <td>0.98</td>\n",
              "      <td>CUST0000000013</td>\n",
              "      <td>MM</td>\n",
              "      <td>YF</td>\n",
              "      <td>L</td>\n",
              "      <td>Top Up</td>\n",
              "      <td>Fresh</td>\n",
              "      <td>STORE02747</td>\n",
              "      <td>MS</td>\n",
              "      <td>N03</td>\n",
              "    </tr>\n",
              "    <tr>\n",
              "      <th>1482677</th>\n",
              "      <td>200709</td>\n",
              "      <td>20070423</td>\n",
              "      <td>2</td>\n",
              "      <td>21</td>\n",
              "      <td>1</td>\n",
              "      <td>1.34</td>\n",
              "      <td>CUST0000000013</td>\n",
              "      <td>MM</td>\n",
              "      <td>YF</td>\n",
              "      <td>L</td>\n",
              "      <td>Top Up</td>\n",
              "      <td>Fresh</td>\n",
              "      <td>STORE02747</td>\n",
              "      <td>MS</td>\n",
              "      <td>N03</td>\n",
              "    </tr>\n",
              "    <tr>\n",
              "      <th>1482680</th>\n",
              "      <td>200709</td>\n",
              "      <td>20070423</td>\n",
              "      <td>2</td>\n",
              "      <td>21</td>\n",
              "      <td>1</td>\n",
              "      <td>2.55</td>\n",
              "      <td>CUST0000000013</td>\n",
              "      <td>MM</td>\n",
              "      <td>YF</td>\n",
              "      <td>L</td>\n",
              "      <td>Top Up</td>\n",
              "      <td>Fresh</td>\n",
              "      <td>STORE02747</td>\n",
              "      <td>MS</td>\n",
              "      <td>N03</td>\n",
              "    </tr>\n",
              "    <tr>\n",
              "      <th>1482684</th>\n",
              "      <td>200709</td>\n",
              "      <td>20070423</td>\n",
              "      <td>2</td>\n",
              "      <td>21</td>\n",
              "      <td>1</td>\n",
              "      <td>0.95</td>\n",
              "      <td>CUST0000000013</td>\n",
              "      <td>MM</td>\n",
              "      <td>YF</td>\n",
              "      <td>L</td>\n",
              "      <td>Top Up</td>\n",
              "      <td>Fresh</td>\n",
              "      <td>STORE02747</td>\n",
              "      <td>MS</td>\n",
              "      <td>N03</td>\n",
              "    </tr>\n",
              "    <tr>\n",
              "      <th>1482685</th>\n",
              "      <td>200709</td>\n",
              "      <td>20070423</td>\n",
              "      <td>2</td>\n",
              "      <td>21</td>\n",
              "      <td>1</td>\n",
              "      <td>0.97</td>\n",
              "      <td>CUST0000000013</td>\n",
              "      <td>MM</td>\n",
              "      <td>YF</td>\n",
              "      <td>L</td>\n",
              "      <td>Top Up</td>\n",
              "      <td>Fresh</td>\n",
              "      <td>STORE02747</td>\n",
              "      <td>MS</td>\n",
              "      <td>N03</td>\n",
              "    </tr>\n",
              "    <tr>\n",
              "      <th>...</th>\n",
              "      <td>...</td>\n",
              "      <td>...</td>\n",
              "      <td>...</td>\n",
              "      <td>...</td>\n",
              "      <td>...</td>\n",
              "      <td>...</td>\n",
              "      <td>...</td>\n",
              "      <td>...</td>\n",
              "      <td>...</td>\n",
              "      <td>...</td>\n",
              "      <td>...</td>\n",
              "      <td>...</td>\n",
              "      <td>...</td>\n",
              "      <td>...</td>\n",
              "      <td>...</td>\n",
              "    </tr>\n",
              "    <tr>\n",
              "      <th>3029840</th>\n",
              "      <td>200815</td>\n",
              "      <td>20080607</td>\n",
              "      <td>7</td>\n",
              "      <td>18</td>\n",
              "      <td>1</td>\n",
              "      <td>0.91</td>\n",
              "      <td>CUST0000999786</td>\n",
              "      <td>MM</td>\n",
              "      <td>OT</td>\n",
              "      <td>S</td>\n",
              "      <td>Small Shop</td>\n",
              "      <td>Mixed</td>\n",
              "      <td>STORE01125</td>\n",
              "      <td>MS</td>\n",
              "      <td>S02</td>\n",
              "    </tr>\n",
              "    <tr>\n",
              "      <th>3029837</th>\n",
              "      <td>200815</td>\n",
              "      <td>20080608</td>\n",
              "      <td>1</td>\n",
              "      <td>15</td>\n",
              "      <td>1</td>\n",
              "      <td>1.32</td>\n",
              "      <td>CUST0000999786</td>\n",
              "      <td>MM</td>\n",
              "      <td>OT</td>\n",
              "      <td>M</td>\n",
              "      <td>Small Shop</td>\n",
              "      <td>Fresh</td>\n",
              "      <td>STORE01125</td>\n",
              "      <td>MS</td>\n",
              "      <td>S02</td>\n",
              "    </tr>\n",
              "    <tr>\n",
              "      <th>3029857</th>\n",
              "      <td>200815</td>\n",
              "      <td>20080608</td>\n",
              "      <td>1</td>\n",
              "      <td>15</td>\n",
              "      <td>1</td>\n",
              "      <td>0.49</td>\n",
              "      <td>CUST0000999786</td>\n",
              "      <td>MM</td>\n",
              "      <td>OT</td>\n",
              "      <td>M</td>\n",
              "      <td>Small Shop</td>\n",
              "      <td>Fresh</td>\n",
              "      <td>STORE01125</td>\n",
              "      <td>MS</td>\n",
              "      <td>S02</td>\n",
              "    </tr>\n",
              "    <tr>\n",
              "      <th>3029891</th>\n",
              "      <td>200815</td>\n",
              "      <td>20080608</td>\n",
              "      <td>1</td>\n",
              "      <td>15</td>\n",
              "      <td>1</td>\n",
              "      <td>2.22</td>\n",
              "      <td>CUST0000999786</td>\n",
              "      <td>MM</td>\n",
              "      <td>OT</td>\n",
              "      <td>M</td>\n",
              "      <td>Small Shop</td>\n",
              "      <td>Fresh</td>\n",
              "      <td>STORE01125</td>\n",
              "      <td>MS</td>\n",
              "      <td>S02</td>\n",
              "    </tr>\n",
              "    <tr>\n",
              "      <th>3140708</th>\n",
              "      <td>200819</td>\n",
              "      <td>20080705</td>\n",
              "      <td>7</td>\n",
              "      <td>8</td>\n",
              "      <td>1</td>\n",
              "      <td>1.66</td>\n",
              "      <td>CUST0000999786</td>\n",
              "      <td>MM</td>\n",
              "      <td>OT</td>\n",
              "      <td>S</td>\n",
              "      <td>Small Shop</td>\n",
              "      <td>Fresh</td>\n",
              "      <td>STORE01125</td>\n",
              "      <td>MS</td>\n",
              "      <td>S02</td>\n",
              "    </tr>\n",
              "  </tbody>\n",
              "</table>\n",
              "<p>2541019 rows × 15 columns</p>\n",
              "</div>"
            ],
            "text/plain": [
              "         SHOP_WEEK  SHOP_DATE  ...  STORE_FORMAT  STORE_REGION\n",
              "1482669     200709   20070423  ...            MS           N03\n",
              "1482677     200709   20070423  ...            MS           N03\n",
              "1482680     200709   20070423  ...            MS           N03\n",
              "1482684     200709   20070423  ...            MS           N03\n",
              "1482685     200709   20070423  ...            MS           N03\n",
              "...            ...        ...  ...           ...           ...\n",
              "3029840     200815   20080607  ...            MS           S02\n",
              "3029837     200815   20080608  ...            MS           S02\n",
              "3029857     200815   20080608  ...            MS           S02\n",
              "3029891     200815   20080608  ...            MS           S02\n",
              "3140708     200819   20080705  ...            MS           S02\n",
              "\n",
              "[2541019 rows x 15 columns]"
            ]
          },
          "metadata": {},
          "execution_count": 16
        }
      ]
    },
    {
      "cell_type": "code",
      "metadata": {
        "id": "9JWpfgygHeJD"
      },
      "source": [
        "# 1. Grouping by Cust_Code + Shop_Date to extract full transaction data per customer\n",
        "# 2. Reset Index because groupby creates multi-index\n",
        "# 3. Extract Only the Shop_Date, drop all other columns\n",
        "# 4. Creating column for Transaction Dates\n",
        "# 5. Creating columns with days between transactions, filling the first transaction NAT with 0\n",
        "\n",
        "df = data_sorted.groupby(['CUST_CODE', 'SHOP_DATE']).nunique()\n",
        "df = df.reset_index(level = ['SHOP_DATE']) \n",
        "df = df[['SHOP_DATE']]\n",
        "df['Dates'] = pd.to_datetime(df['SHOP_DATE'], format='%Y%m%d')\n",
        "df['Days_Between_Transactions'] = df['Dates'] - df['Dates'].shift(1)\n",
        "df['Days_Between_Transactions'] = df['Days_Between_Transactions'].fillna(pd.Timedelta(seconds=0))\n",
        "cust_df = df"
      ],
      "execution_count": 17,
      "outputs": []
    },
    {
      "cell_type": "code",
      "metadata": {
        "colab": {
          "base_uri": "https://localhost:8080/",
          "height": 450
        },
        "id": "o4oxGH_Bqi8O",
        "outputId": "29b17d9f-0940-4754-859d-62f7b634d47f"
      },
      "source": [
        "# Cleaning days between transaction column\n",
        "cust_df ['Days_Between_Transactions'] = cust_df ['Days_Between_Transactions'].astype(str) \n",
        "cust_df ['Days_Between_Transactions'] = cust_df ['Days_Between_Transactions'].replace(r'days', '', regex=True)\n",
        "cust_df ['Days_Between_Transactions'] = cust_df ['Days_Between_Transactions'].astype(int) \n",
        "cust_df"
      ],
      "execution_count": 18,
      "outputs": [
        {
          "output_type": "execute_result",
          "data": {
            "text/html": [
              "<div>\n",
              "<style scoped>\n",
              "    .dataframe tbody tr th:only-of-type {\n",
              "        vertical-align: middle;\n",
              "    }\n",
              "\n",
              "    .dataframe tbody tr th {\n",
              "        vertical-align: top;\n",
              "    }\n",
              "\n",
              "    .dataframe thead th {\n",
              "        text-align: right;\n",
              "    }\n",
              "</style>\n",
              "<table border=\"1\" class=\"dataframe\">\n",
              "  <thead>\n",
              "    <tr style=\"text-align: right;\">\n",
              "      <th></th>\n",
              "      <th>SHOP_DATE</th>\n",
              "      <th>Dates</th>\n",
              "      <th>Days_Between_Transactions</th>\n",
              "    </tr>\n",
              "    <tr>\n",
              "      <th>CUST_CODE</th>\n",
              "      <th></th>\n",
              "      <th></th>\n",
              "      <th></th>\n",
              "    </tr>\n",
              "  </thead>\n",
              "  <tbody>\n",
              "    <tr>\n",
              "      <th>CUST0000000013</th>\n",
              "      <td>20070423</td>\n",
              "      <td>2007-04-23</td>\n",
              "      <td>0</td>\n",
              "    </tr>\n",
              "    <tr>\n",
              "      <th>CUST0000000013</th>\n",
              "      <td>20070522</td>\n",
              "      <td>2007-05-22</td>\n",
              "      <td>29</td>\n",
              "    </tr>\n",
              "    <tr>\n",
              "      <th>CUST0000000013</th>\n",
              "      <td>20070601</td>\n",
              "      <td>2007-06-01</td>\n",
              "      <td>10</td>\n",
              "    </tr>\n",
              "    <tr>\n",
              "      <th>CUST0000000013</th>\n",
              "      <td>20070710</td>\n",
              "      <td>2007-07-10</td>\n",
              "      <td>39</td>\n",
              "    </tr>\n",
              "    <tr>\n",
              "      <th>CUST0000000013</th>\n",
              "      <td>20070719</td>\n",
              "      <td>2007-07-19</td>\n",
              "      <td>9</td>\n",
              "    </tr>\n",
              "    <tr>\n",
              "      <th>...</th>\n",
              "      <td>...</td>\n",
              "      <td>...</td>\n",
              "      <td>...</td>\n",
              "    </tr>\n",
              "    <tr>\n",
              "      <th>CUST0000999786</th>\n",
              "      <td>20080520</td>\n",
              "      <td>2008-05-20</td>\n",
              "      <td>1</td>\n",
              "    </tr>\n",
              "    <tr>\n",
              "      <th>CUST0000999786</th>\n",
              "      <td>20080526</td>\n",
              "      <td>2008-05-26</td>\n",
              "      <td>6</td>\n",
              "    </tr>\n",
              "    <tr>\n",
              "      <th>CUST0000999786</th>\n",
              "      <td>20080607</td>\n",
              "      <td>2008-06-07</td>\n",
              "      <td>12</td>\n",
              "    </tr>\n",
              "    <tr>\n",
              "      <th>CUST0000999786</th>\n",
              "      <td>20080608</td>\n",
              "      <td>2008-06-08</td>\n",
              "      <td>1</td>\n",
              "    </tr>\n",
              "    <tr>\n",
              "      <th>CUST0000999786</th>\n",
              "      <td>20080705</td>\n",
              "      <td>2008-07-05</td>\n",
              "      <td>27</td>\n",
              "    </tr>\n",
              "  </tbody>\n",
              "</table>\n",
              "<p>347966 rows × 3 columns</p>\n",
              "</div>"
            ],
            "text/plain": [
              "                SHOP_DATE      Dates  Days_Between_Transactions\n",
              "CUST_CODE                                                      \n",
              "CUST0000000013   20070423 2007-04-23                          0\n",
              "CUST0000000013   20070522 2007-05-22                         29\n",
              "CUST0000000013   20070601 2007-06-01                         10\n",
              "CUST0000000013   20070710 2007-07-10                         39\n",
              "CUST0000000013   20070719 2007-07-19                          9\n",
              "...                   ...        ...                        ...\n",
              "CUST0000999786   20080520 2008-05-20                          1\n",
              "CUST0000999786   20080526 2008-05-26                          6\n",
              "CUST0000999786   20080607 2008-06-07                         12\n",
              "CUST0000999786   20080608 2008-06-08                          1\n",
              "CUST0000999786   20080705 2008-07-05                         27\n",
              "\n",
              "[347966 rows x 3 columns]"
            ]
          },
          "metadata": {},
          "execution_count": 18
        }
      ]
    },
    {
      "cell_type": "code",
      "metadata": {
        "colab": {
          "base_uri": "https://localhost:8080/",
          "height": 450
        },
        "id": "1qOR-M7lq5iX",
        "outputId": "4f64753f-c7af-4ee3-df1f-f86108b09ed1"
      },
      "source": [
        "# Grouping by customer code and extracting the standard deviation of days between transactions\n",
        "clump_df = cust_df.groupby(['CUST_CODE']).std()\n",
        "clump_df = clump_df[['Days_Between_Transactions']]\n",
        "clump_df = clump_df.rename({'Days_Between_Transactions': 'StdDev_Days_Between_Transactions'}, axis=1)\n",
        "clump_df"
      ],
      "execution_count": 19,
      "outputs": [
        {
          "output_type": "execute_result",
          "data": {
            "text/html": [
              "<div>\n",
              "<style scoped>\n",
              "    .dataframe tbody tr th:only-of-type {\n",
              "        vertical-align: middle;\n",
              "    }\n",
              "\n",
              "    .dataframe tbody tr th {\n",
              "        vertical-align: top;\n",
              "    }\n",
              "\n",
              "    .dataframe thead th {\n",
              "        text-align: right;\n",
              "    }\n",
              "</style>\n",
              "<table border=\"1\" class=\"dataframe\">\n",
              "  <thead>\n",
              "    <tr style=\"text-align: right;\">\n",
              "      <th></th>\n",
              "      <th>StdDev_Days_Between_Transactions</th>\n",
              "    </tr>\n",
              "    <tr>\n",
              "      <th>CUST_CODE</th>\n",
              "      <th></th>\n",
              "    </tr>\n",
              "  </thead>\n",
              "  <tbody>\n",
              "    <tr>\n",
              "      <th>CUST0000000013</th>\n",
              "      <td>27.511430</td>\n",
              "    </tr>\n",
              "    <tr>\n",
              "      <th>CUST0000000055</th>\n",
              "      <td>134.877193</td>\n",
              "    </tr>\n",
              "    <tr>\n",
              "      <th>CUST0000000679</th>\n",
              "      <td>217.491948</td>\n",
              "    </tr>\n",
              "    <tr>\n",
              "      <th>CUST0000001052</th>\n",
              "      <td>136.495098</td>\n",
              "    </tr>\n",
              "    <tr>\n",
              "      <th>CUST0000001058</th>\n",
              "      <td>108.894444</td>\n",
              "    </tr>\n",
              "    <tr>\n",
              "      <th>...</th>\n",
              "      <td>...</td>\n",
              "    </tr>\n",
              "    <tr>\n",
              "      <th>CUST0000998609</th>\n",
              "      <td>219.101261</td>\n",
              "    </tr>\n",
              "    <tr>\n",
              "      <th>CUST0000998851</th>\n",
              "      <td>60.351841</td>\n",
              "    </tr>\n",
              "    <tr>\n",
              "      <th>CUST0000998907</th>\n",
              "      <td>63.117348</td>\n",
              "    </tr>\n",
              "    <tr>\n",
              "      <th>CUST0000999385</th>\n",
              "      <td>48.721454</td>\n",
              "    </tr>\n",
              "    <tr>\n",
              "      <th>CUST0000999786</th>\n",
              "      <td>73.916201</td>\n",
              "    </tr>\n",
              "  </tbody>\n",
              "</table>\n",
              "<p>5000 rows × 1 columns</p>\n",
              "</div>"
            ],
            "text/plain": [
              "                StdDev_Days_Between_Transactions\n",
              "CUST_CODE                                       \n",
              "CUST0000000013                         27.511430\n",
              "CUST0000000055                        134.877193\n",
              "CUST0000000679                        217.491948\n",
              "CUST0000001052                        136.495098\n",
              "CUST0000001058                        108.894444\n",
              "...                                          ...\n",
              "CUST0000998609                        219.101261\n",
              "CUST0000998851                         60.351841\n",
              "CUST0000998907                         63.117348\n",
              "CUST0000999385                         48.721454\n",
              "CUST0000999786                         73.916201\n",
              "\n",
              "[5000 rows x 1 columns]"
            ]
          },
          "metadata": {},
          "execution_count": 19
        }
      ]
    },
    {
      "cell_type": "code",
      "metadata": {
        "colab": {
          "base_uri": "https://localhost:8080/",
          "height": 397
        },
        "id": "48rMDlHejaTe",
        "outputId": "32b814ab-ab3a-41d1-d92d-541bc45c8c93"
      },
      "source": [
        "# naming the x axis\n",
        "plt.xlabel('Standard Deviation ')\n",
        "# naming the y axis\n",
        "plt.ylabel('Number of Customers')\n",
        "# plot title\n",
        "plt.title('Frequency of Standard Deviations between transactions')\n",
        "plt.hist(clump_df['StdDev_Days_Between_Transactions'])\n"
      ],
      "execution_count": 20,
      "outputs": [
        {
          "output_type": "execute_result",
          "data": {
            "text/plain": [
              "(array([2779.,  925.,  315.,  166.,   85.,   41.,   15.,    8.,   12.,\n",
              "          10.]),\n",
              " array([   2.24765725,  116.57419008,  230.9007229 ,  345.22725573,\n",
              "         459.55378856,  573.88032139,  688.20685421,  802.53338704,\n",
              "         916.85991987, 1031.18645269, 1145.51298552]),\n",
              " <a list of 10 Patch objects>)"
            ]
          },
          "metadata": {},
          "execution_count": 20
        },
        {
          "output_type": "display_data",
          "data": {
            "image/png": "[encoded data removed]",
            "text/plain": [
              "<Figure size 432x288 with 1 Axes>"
            ]
          },
          "metadata": {
            "needs_background": "light"
          }
        }
      ]
    },
    {
      "cell_type": "markdown",
      "metadata": {
        "id": "XFMZEGx_-YHs"
      },
      "source": [
        "## Step 2: Calculating Lifetime Value of each customer\n",
        "Customer Lifetime Value is the total amount spent by the customer from all their transactions"
      ]
    },
    {
      "cell_type": "code",
      "metadata": {
        "colab": {
          "base_uri": "https://localhost:8080/",
          "height": 450
        },
        "id": "y4J1IVQF3UVP",
        "outputId": "012e4884-86d3-4d90-818f-3f4c28b73c78"
      },
      "source": [
        "## Adding customer lifetime value to the clump_df \n",
        "# 1. Grouping by Customer Code and aggregating sum of other columns \n",
        "# 2. Only keeping customer code and total spend \n",
        "clv_df = data_sorted.groupby(['CUST_CODE']).sum()\n",
        "clv_df = clv_df[['SPEND']]\n",
        "clv_df"
      ],
      "execution_count": 21,
      "outputs": [
        {
          "output_type": "execute_result",
          "data": {
            "text/html": [
              "<div>\n",
              "<style scoped>\n",
              "    .dataframe tbody tr th:only-of-type {\n",
              "        vertical-align: middle;\n",
              "    }\n",
              "\n",
              "    .dataframe tbody tr th {\n",
              "        vertical-align: top;\n",
              "    }\n",
              "\n",
              "    .dataframe thead th {\n",
              "        text-align: right;\n",
              "    }\n",
              "</style>\n",
              "<table border=\"1\" class=\"dataframe\">\n",
              "  <thead>\n",
              "    <tr style=\"text-align: right;\">\n",
              "      <th></th>\n",
              "      <th>SPEND</th>\n",
              "    </tr>\n",
              "    <tr>\n",
              "      <th>CUST_CODE</th>\n",
              "      <th></th>\n",
              "    </tr>\n",
              "  </thead>\n",
              "  <tbody>\n",
              "    <tr>\n",
              "      <th>CUST0000000013</th>\n",
              "      <td>160.32</td>\n",
              "    </tr>\n",
              "    <tr>\n",
              "      <th>CUST0000000055</th>\n",
              "      <td>433.65</td>\n",
              "    </tr>\n",
              "    <tr>\n",
              "      <th>CUST0000000679</th>\n",
              "      <td>85.63</td>\n",
              "    </tr>\n",
              "    <tr>\n",
              "      <th>CUST0000001052</th>\n",
              "      <td>260.92</td>\n",
              "    </tr>\n",
              "    <tr>\n",
              "      <th>CUST0000001058</th>\n",
              "      <td>71.50</td>\n",
              "    </tr>\n",
              "    <tr>\n",
              "      <th>...</th>\n",
              "      <td>...</td>\n",
              "    </tr>\n",
              "    <tr>\n",
              "      <th>CUST0000998609</th>\n",
              "      <td>53.86</td>\n",
              "    </tr>\n",
              "    <tr>\n",
              "      <th>CUST0000998851</th>\n",
              "      <td>394.92</td>\n",
              "    </tr>\n",
              "    <tr>\n",
              "      <th>CUST0000998907</th>\n",
              "      <td>3721.02</td>\n",
              "    </tr>\n",
              "    <tr>\n",
              "      <th>CUST0000999385</th>\n",
              "      <td>4252.77</td>\n",
              "    </tr>\n",
              "    <tr>\n",
              "      <th>CUST0000999786</th>\n",
              "      <td>802.52</td>\n",
              "    </tr>\n",
              "  </tbody>\n",
              "</table>\n",
              "<p>5000 rows × 1 columns</p>\n",
              "</div>"
            ],
            "text/plain": [
              "                  SPEND\n",
              "CUST_CODE              \n",
              "CUST0000000013   160.32\n",
              "CUST0000000055   433.65\n",
              "CUST0000000679    85.63\n",
              "CUST0000001052   260.92\n",
              "CUST0000001058    71.50\n",
              "...                 ...\n",
              "CUST0000998609    53.86\n",
              "CUST0000998851   394.92\n",
              "CUST0000998907  3721.02\n",
              "CUST0000999385  4252.77\n",
              "CUST0000999786   802.52\n",
              "\n",
              "[5000 rows x 1 columns]"
            ]
          },
          "metadata": {},
          "execution_count": 21
        }
      ]
    },
    {
      "cell_type": "code",
      "metadata": {
        "colab": {
          "base_uri": "https://localhost:8080/",
          "height": 397
        },
        "id": "XlxYuYDQoOdJ",
        "outputId": "39bbccc8-0d40-4236-8259-e984050fe057"
      },
      "source": [
        "# naming the x axis\n",
        "plt.xlabel('Total Spend')\n",
        "# naming the y axis\n",
        "plt.ylabel('Number of Customers')\n",
        "# plot title\n",
        "plt.title('Frequency of Total Spend Amount')\n",
        "plt.hist(clv_df['SPEND'])"
      ],
      "execution_count": 22,
      "outputs": [
        {
          "output_type": "execute_result",
          "data": {
            "text/plain": [
              "(array([3.811e+03, 7.230e+02, 3.090e+02, 1.150e+02, 2.900e+01, 8.000e+00,\n",
              "        2.000e+00, 0.000e+00, 2.000e+00, 1.000e+00]),\n",
              " array([1.0000000e-02, 1.4684150e+03, 2.9368200e+03, 4.4052250e+03,\n",
              "        5.8736300e+03, 7.3420350e+03, 8.8104400e+03, 1.0278845e+04,\n",
              "        1.1747250e+04, 1.3215655e+04, 1.4684060e+04]),\n",
              " <a list of 10 Patch objects>)"
            ]
          },
          "metadata": {},
          "execution_count": 22
        },
        {
          "output_type": "display_data",
          "data": {
            "image/png": "[encoded data removed]",
            "text/plain": [
              "<Figure size 432x288 with 1 Axes>"
            ]
          },
          "metadata": {
            "needs_background": "light"
          }
        }
      ]
    },
    {
      "cell_type": "code",
      "metadata": {
        "colab": {
          "base_uri": "https://localhost:8080/",
          "height": 450
        },
        "id": "7UJafLC_71pF",
        "outputId": "ddbebbc2-e294-4166-e302-1927501ffb18"
      },
      "source": [
        "final_df = pd.merge(left = clump_df, right = clv_df, how = 'inner', on= ['CUST_CODE'])\n",
        "final_df = final_df.rename({'SPEND': 'Total_Spend'}, axis = 1)\n",
        "final_df"
      ],
      "execution_count": 23,
      "outputs": [
        {
          "output_type": "execute_result",
          "data": {
            "text/html": [
              "<div>\n",
              "<style scoped>\n",
              "    .dataframe tbody tr th:only-of-type {\n",
              "        vertical-align: middle;\n",
              "    }\n",
              "\n",
              "    .dataframe tbody tr th {\n",
              "        vertical-align: top;\n",
              "    }\n",
              "\n",
              "    .dataframe thead th {\n",
              "        text-align: right;\n",
              "    }\n",
              "</style>\n",
              "<table border=\"1\" class=\"dataframe\">\n",
              "  <thead>\n",
              "    <tr style=\"text-align: right;\">\n",
              "      <th></th>\n",
              "      <th>StdDev_Days_Between_Transactions</th>\n",
              "      <th>Total_Spend</th>\n",
              "    </tr>\n",
              "    <tr>\n",
              "      <th>CUST_CODE</th>\n",
              "      <th></th>\n",
              "      <th></th>\n",
              "    </tr>\n",
              "  </thead>\n",
              "  <tbody>\n",
              "    <tr>\n",
              "      <th>CUST0000000013</th>\n",
              "      <td>27.511430</td>\n",
              "      <td>160.32</td>\n",
              "    </tr>\n",
              "    <tr>\n",
              "      <th>CUST0000000055</th>\n",
              "      <td>134.877193</td>\n",
              "      <td>433.65</td>\n",
              "    </tr>\n",
              "    <tr>\n",
              "      <th>CUST0000000679</th>\n",
              "      <td>217.491948</td>\n",
              "      <td>85.63</td>\n",
              "    </tr>\n",
              "    <tr>\n",
              "      <th>CUST0000001052</th>\n",
              "      <td>136.495098</td>\n",
              "      <td>260.92</td>\n",
              "    </tr>\n",
              "    <tr>\n",
              "      <th>CUST0000001058</th>\n",
              "      <td>108.894444</td>\n",
              "      <td>71.50</td>\n",
              "    </tr>\n",
              "    <tr>\n",
              "      <th>...</th>\n",
              "      <td>...</td>\n",
              "      <td>...</td>\n",
              "    </tr>\n",
              "    <tr>\n",
              "      <th>CUST0000998609</th>\n",
              "      <td>219.101261</td>\n",
              "      <td>53.86</td>\n",
              "    </tr>\n",
              "    <tr>\n",
              "      <th>CUST0000998851</th>\n",
              "      <td>60.351841</td>\n",
              "      <td>394.92</td>\n",
              "    </tr>\n",
              "    <tr>\n",
              "      <th>CUST0000998907</th>\n",
              "      <td>63.117348</td>\n",
              "      <td>3721.02</td>\n",
              "    </tr>\n",
              "    <tr>\n",
              "      <th>CUST0000999385</th>\n",
              "      <td>48.721454</td>\n",
              "      <td>4252.77</td>\n",
              "    </tr>\n",
              "    <tr>\n",
              "      <th>CUST0000999786</th>\n",
              "      <td>73.916201</td>\n",
              "      <td>802.52</td>\n",
              "    </tr>\n",
              "  </tbody>\n",
              "</table>\n",
              "<p>5000 rows × 2 columns</p>\n",
              "</div>"
            ],
            "text/plain": [
              "                StdDev_Days_Between_Transactions  Total_Spend\n",
              "CUST_CODE                                                    \n",
              "CUST0000000013                         27.511430       160.32\n",
              "CUST0000000055                        134.877193       433.65\n",
              "CUST0000000679                        217.491948        85.63\n",
              "CUST0000001052                        136.495098       260.92\n",
              "CUST0000001058                        108.894444        71.50\n",
              "...                                          ...          ...\n",
              "CUST0000998609                        219.101261        53.86\n",
              "CUST0000998851                         60.351841       394.92\n",
              "CUST0000998907                         63.117348      3721.02\n",
              "CUST0000999385                         48.721454      4252.77\n",
              "CUST0000999786                         73.916201       802.52\n",
              "\n",
              "[5000 rows x 2 columns]"
            ]
          },
          "metadata": {},
          "execution_count": 23
        }
      ]
    },
    {
      "cell_type": "markdown",
      "metadata": {
        "id": "3OSuqkRK-zp_"
      },
      "source": [
        "## Step 3: Determine the Target Customer Segement"
      ]
    },
    {
      "cell_type": "code",
      "metadata": {
        "colab": {
          "base_uri": "https://localhost:8080/",
          "height": 295
        },
        "id": "vPCRZANv-33p",
        "outputId": "e5b39aaa-7f5a-409c-8598-8b0bd964f90a"
      },
      "source": [
        "# Creating graph Customer Lifetime Value vs Consistency\n",
        "\n",
        "plt.scatter(final_df['Total_Spend'], final_df['StdDev_Days_Between_Transactions'])\n",
        "# naming the x axis\n",
        "plt.xlabel('Customer Lifetime Value')\n",
        "# naming the y axis\n",
        "plt.ylabel('Customer Consistency')\n",
        "# plot title\n",
        "plt.title('Consistency vs Lifetime Value')\n",
        "\n",
        "# Vertical Quadrant Line \n",
        "x2 = [7500 for i in range(0,1200,1)]\n",
        "y2 = [i for i in range(0,1200,1)]\n",
        "# plotting the line 2 points\n",
        "plt.plot(x2, y2, color = \"red\")\n",
        "\n",
        "# Horizontal Quadrant Line \n",
        "x3 = [i for i in range(0,14000,1)]\n",
        "y3 = [600 for i in range(0,14000,1)]\n",
        "# plotting the line 2 points\n",
        "plt.plot(x3, y3, color = \"red\")\n",
        "\n",
        "plt.show()\n",
        "\n"
      ],
      "execution_count": 24,
      "outputs": [
        {
          "output_type": "display_data",
          "data": {
            "image/png": "[encoded data removed]",
            "text/plain": [
              "<Figure size 432x288 with 1 Axes>"
            ]
          },
          "metadata": {
            "needs_background": "light"
          }
        }
      ]
    },
    {
      "cell_type": "code",
      "metadata": {
        "id": "q2TtQj0T-372"
      },
      "source": [
        "# Lower the Customer Consistency value the better, this means the spread of frequency of visits is less\n",
        "# Higher CLV means the customer has spent a large amount through their transactions"
      ],
      "execution_count": 25,
      "outputs": []
    },
    {
      "cell_type": "code",
      "metadata": {
        "colab": {
          "base_uri": "https://localhost:8080/"
        },
        "id": "TbswMm9f-3-h",
        "outputId": "7658a981-0c09-4703-abe1-5512eb23e114"
      },
      "source": [
        "# Counting number of inconsistent customers\n",
        "incons_df = final_df[final_df['StdDev_Days_Between_Transactions']>600]\n",
        "print(f\"There are {len(incons_df)} inconsistent customers\")"
      ],
      "execution_count": 26,
      "outputs": [
        {
          "output_type": "stream",
          "name": "stdout",
          "text": [
            "There are 70 inconsistent customers\n"
          ]
        }
      ]
    },
    {
      "cell_type": "markdown",
      "metadata": {
        "id": "hC9RR5UWIy28"
      },
      "source": [
        "#### Investigating Inconsistent customers"
      ]
    },
    {
      "cell_type": "code",
      "metadata": {
        "colab": {
          "base_uri": "https://localhost:8080/",
          "height": 450
        },
        "id": "eRnWm1__P4DI",
        "outputId": "ed405931-a8ce-4e41-c956-544db405e910"
      },
      "source": [
        "incons_df"
      ],
      "execution_count": 27,
      "outputs": [
        {
          "output_type": "execute_result",
          "data": {
            "text/html": [
              "<div>\n",
              "<style scoped>\n",
              "    .dataframe tbody tr th:only-of-type {\n",
              "        vertical-align: middle;\n",
              "    }\n",
              "\n",
              "    .dataframe tbody tr th {\n",
              "        vertical-align: top;\n",
              "    }\n",
              "\n",
              "    .dataframe thead th {\n",
              "        text-align: right;\n",
              "    }\n",
              "</style>\n",
              "<table border=\"1\" class=\"dataframe\">\n",
              "  <thead>\n",
              "    <tr style=\"text-align: right;\">\n",
              "      <th></th>\n",
              "      <th>StdDev_Days_Between_Transactions</th>\n",
              "      <th>Total_Spend</th>\n",
              "    </tr>\n",
              "    <tr>\n",
              "      <th>CUST_CODE</th>\n",
              "      <th></th>\n",
              "      <th></th>\n",
              "    </tr>\n",
              "  </thead>\n",
              "  <tbody>\n",
              "    <tr>\n",
              "      <th>CUST0000023874</th>\n",
              "      <td>784.181420</td>\n",
              "      <td>2.10</td>\n",
              "    </tr>\n",
              "    <tr>\n",
              "      <th>CUST0000025672</th>\n",
              "      <td>632.860569</td>\n",
              "      <td>10.80</td>\n",
              "    </tr>\n",
              "    <tr>\n",
              "      <th>CUST0000027294</th>\n",
              "      <td>1145.512986</td>\n",
              "      <td>19.08</td>\n",
              "    </tr>\n",
              "    <tr>\n",
              "      <th>CUST0000036781</th>\n",
              "      <td>624.965866</td>\n",
              "      <td>40.09</td>\n",
              "    </tr>\n",
              "    <tr>\n",
              "      <th>CUST0000044201</th>\n",
              "      <td>1016.112445</td>\n",
              "      <td>38.66</td>\n",
              "    </tr>\n",
              "    <tr>\n",
              "      <th>...</th>\n",
              "      <td>...</td>\n",
              "      <td>...</td>\n",
              "    </tr>\n",
              "    <tr>\n",
              "      <th>CUST0000918382</th>\n",
              "      <td>863.377380</td>\n",
              "      <td>4.68</td>\n",
              "    </tr>\n",
              "    <tr>\n",
              "      <th>CUST0000942224</th>\n",
              "      <td>781.352993</td>\n",
              "      <td>1.70</td>\n",
              "    </tr>\n",
              "    <tr>\n",
              "      <th>CUST0000960491</th>\n",
              "      <td>664.680374</td>\n",
              "      <td>33.09</td>\n",
              "    </tr>\n",
              "    <tr>\n",
              "      <th>CUST0000981759</th>\n",
              "      <td>636.215634</td>\n",
              "      <td>10.42</td>\n",
              "    </tr>\n",
              "    <tr>\n",
              "      <th>CUST0000984478</th>\n",
              "      <td>673.872762</td>\n",
              "      <td>49.70</td>\n",
              "    </tr>\n",
              "  </tbody>\n",
              "</table>\n",
              "<p>70 rows × 2 columns</p>\n",
              "</div>"
            ],
            "text/plain": [
              "                StdDev_Days_Between_Transactions  Total_Spend\n",
              "CUST_CODE                                                    \n",
              "CUST0000023874                        784.181420         2.10\n",
              "CUST0000025672                        632.860569        10.80\n",
              "CUST0000027294                       1145.512986        19.08\n",
              "CUST0000036781                        624.965866        40.09\n",
              "CUST0000044201                       1016.112445        38.66\n",
              "...                                          ...          ...\n",
              "CUST0000918382                        863.377380         4.68\n",
              "CUST0000942224                        781.352993         1.70\n",
              "CUST0000960491                        664.680374        33.09\n",
              "CUST0000981759                        636.215634        10.42\n",
              "CUST0000984478                        673.872762        49.70\n",
              "\n",
              "[70 rows x 2 columns]"
            ]
          },
          "metadata": {},
          "execution_count": 27
        }
      ]
    },
    {
      "cell_type": "code",
      "metadata": {
        "colab": {
          "base_uri": "https://localhost:8080/"
        },
        "id": "LTXiGd3mIif8",
        "outputId": "a3242e90-f0f4-4f1e-e67e-1bb4672690ac"
      },
      "source": [
        "# Average lifetime spend amongst inconsistent consumers\n",
        "print(f\"Average Total Lifetime Spend: ${incons_df['Total_Spend'].mean()}\") "
      ],
      "execution_count": 28,
      "outputs": [
        {
          "output_type": "stream",
          "name": "stdout",
          "text": [
            "Average Total Lifetime Spend: $31.77771428571428\n"
          ]
        }
      ]
    },
    {
      "cell_type": "code",
      "metadata": {
        "colab": {
          "base_uri": "https://localhost:8080/",
          "height": 419
        },
        "id": "AY4VD775f6zT",
        "outputId": "8ebfecba-5119-44de-a22b-093c7ab7b9ce"
      },
      "source": [
        "incons_custcodes = incons_df.reset_index(drop=False)\n",
        "incons_custcodes = incons_custcodes[['CUST_CODE']]\n",
        "incons_custcodes\n"
      ],
      "execution_count": 29,
      "outputs": [
        {
          "output_type": "execute_result",
          "data": {
            "text/html": [
              "<div>\n",
              "<style scoped>\n",
              "    .dataframe tbody tr th:only-of-type {\n",
              "        vertical-align: middle;\n",
              "    }\n",
              "\n",
              "    .dataframe tbody tr th {\n",
              "        vertical-align: top;\n",
              "    }\n",
              "\n",
              "    .dataframe thead th {\n",
              "        text-align: right;\n",
              "    }\n",
              "</style>\n",
              "<table border=\"1\" class=\"dataframe\">\n",
              "  <thead>\n",
              "    <tr style=\"text-align: right;\">\n",
              "      <th></th>\n",
              "      <th>CUST_CODE</th>\n",
              "    </tr>\n",
              "  </thead>\n",
              "  <tbody>\n",
              "    <tr>\n",
              "      <th>0</th>\n",
              "      <td>CUST0000023874</td>\n",
              "    </tr>\n",
              "    <tr>\n",
              "      <th>1</th>\n",
              "      <td>CUST0000025672</td>\n",
              "    </tr>\n",
              "    <tr>\n",
              "      <th>2</th>\n",
              "      <td>CUST0000027294</td>\n",
              "    </tr>\n",
              "    <tr>\n",
              "      <th>3</th>\n",
              "      <td>CUST0000036781</td>\n",
              "    </tr>\n",
              "    <tr>\n",
              "      <th>4</th>\n",
              "      <td>CUST0000044201</td>\n",
              "    </tr>\n",
              "    <tr>\n",
              "      <th>...</th>\n",
              "      <td>...</td>\n",
              "    </tr>\n",
              "    <tr>\n",
              "      <th>65</th>\n",
              "      <td>CUST0000918382</td>\n",
              "    </tr>\n",
              "    <tr>\n",
              "      <th>66</th>\n",
              "      <td>CUST0000942224</td>\n",
              "    </tr>\n",
              "    <tr>\n",
              "      <th>67</th>\n",
              "      <td>CUST0000960491</td>\n",
              "    </tr>\n",
              "    <tr>\n",
              "      <th>68</th>\n",
              "      <td>CUST0000981759</td>\n",
              "    </tr>\n",
              "    <tr>\n",
              "      <th>69</th>\n",
              "      <td>CUST0000984478</td>\n",
              "    </tr>\n",
              "  </tbody>\n",
              "</table>\n",
              "<p>70 rows × 1 columns</p>\n",
              "</div>"
            ],
            "text/plain": [
              "         CUST_CODE\n",
              "0   CUST0000023874\n",
              "1   CUST0000025672\n",
              "2   CUST0000027294\n",
              "3   CUST0000036781\n",
              "4   CUST0000044201\n",
              "..             ...\n",
              "65  CUST0000918382\n",
              "66  CUST0000942224\n",
              "67  CUST0000960491\n",
              "68  CUST0000981759\n",
              "69  CUST0000984478\n",
              "\n",
              "[70 rows x 1 columns]"
            ]
          },
          "metadata": {},
          "execution_count": 29
        }
      ]
    },
    {
      "cell_type": "code",
      "metadata": {
        "colab": {
          "base_uri": "https://localhost:8080/",
          "height": 419
        },
        "id": "b7WyEaRpfJ1z",
        "outputId": "fd11a153-252a-4d0f-f073-9c026edd09d4"
      },
      "source": [
        "incons_merged_df = pd.merge(left = data_sorted, right = incons_custcodes, how = 'inner', on = 'CUST_CODE')\n",
        "incons_merged_df"
      ],
      "execution_count": 30,
      "outputs": [
        {
          "output_type": "execute_result",
          "data": {
            "text/html": [
              "<div>\n",
              "<style scoped>\n",
              "    .dataframe tbody tr th:only-of-type {\n",
              "        vertical-align: middle;\n",
              "    }\n",
              "\n",
              "    .dataframe tbody tr th {\n",
              "        vertical-align: top;\n",
              "    }\n",
              "\n",
              "    .dataframe thead th {\n",
              "        text-align: right;\n",
              "    }\n",
              "</style>\n",
              "<table border=\"1\" class=\"dataframe\">\n",
              "  <thead>\n",
              "    <tr style=\"text-align: right;\">\n",
              "      <th></th>\n",
              "      <th>SHOP_WEEK</th>\n",
              "      <th>SHOP_DATE</th>\n",
              "      <th>SHOP_WEEKDAY</th>\n",
              "      <th>SHOP_HOUR</th>\n",
              "      <th>QUANTITY</th>\n",
              "      <th>SPEND</th>\n",
              "      <th>CUST_CODE</th>\n",
              "      <th>CUST_PRICE_SENSITIVITY</th>\n",
              "      <th>CUST_LIFESTAGE</th>\n",
              "      <th>BASKET_SIZE</th>\n",
              "      <th>BASKET_TYPE</th>\n",
              "      <th>BASKET_DOMINANT_MISSION</th>\n",
              "      <th>STORE_CODE</th>\n",
              "      <th>STORE_FORMAT</th>\n",
              "      <th>STORE_REGION</th>\n",
              "    </tr>\n",
              "  </thead>\n",
              "  <tbody>\n",
              "    <tr>\n",
              "      <th>0</th>\n",
              "      <td>200630</td>\n",
              "      <td>20060922</td>\n",
              "      <td>6</td>\n",
              "      <td>19</td>\n",
              "      <td>3</td>\n",
              "      <td>1.05</td>\n",
              "      <td>CUST0000023874</td>\n",
              "      <td>XX</td>\n",
              "      <td>OT</td>\n",
              "      <td>M</td>\n",
              "      <td>Small Shop</td>\n",
              "      <td>Grocery</td>\n",
              "      <td>STORE01071</td>\n",
              "      <td>LS</td>\n",
              "      <td>S01</td>\n",
              "    </tr>\n",
              "    <tr>\n",
              "      <th>1</th>\n",
              "      <td>200809</td>\n",
              "      <td>20080427</td>\n",
              "      <td>1</td>\n",
              "      <td>19</td>\n",
              "      <td>3</td>\n",
              "      <td>1.05</td>\n",
              "      <td>CUST0000023874</td>\n",
              "      <td>XX</td>\n",
              "      <td>OT</td>\n",
              "      <td>M</td>\n",
              "      <td>Small Shop</td>\n",
              "      <td>Grocery</td>\n",
              "      <td>STORE01071</td>\n",
              "      <td>LS</td>\n",
              "      <td>S01</td>\n",
              "    </tr>\n",
              "    <tr>\n",
              "      <th>2</th>\n",
              "      <td>200617</td>\n",
              "      <td>20060623</td>\n",
              "      <td>6</td>\n",
              "      <td>10</td>\n",
              "      <td>1</td>\n",
              "      <td>0.97</td>\n",
              "      <td>CUST0000025672</td>\n",
              "      <td>XX</td>\n",
              "      <td>OT</td>\n",
              "      <td>M</td>\n",
              "      <td>Small Shop</td>\n",
              "      <td>Fresh</td>\n",
              "      <td>STORE02710</td>\n",
              "      <td>LS</td>\n",
              "      <td>E02</td>\n",
              "    </tr>\n",
              "    <tr>\n",
              "      <th>3</th>\n",
              "      <td>200617</td>\n",
              "      <td>20060623</td>\n",
              "      <td>6</td>\n",
              "      <td>10</td>\n",
              "      <td>1</td>\n",
              "      <td>1.87</td>\n",
              "      <td>CUST0000025672</td>\n",
              "      <td>XX</td>\n",
              "      <td>OT</td>\n",
              "      <td>M</td>\n",
              "      <td>Small Shop</td>\n",
              "      <td>Fresh</td>\n",
              "      <td>STORE02710</td>\n",
              "      <td>LS</td>\n",
              "      <td>E02</td>\n",
              "    </tr>\n",
              "    <tr>\n",
              "      <th>4</th>\n",
              "      <td>200617</td>\n",
              "      <td>20060623</td>\n",
              "      <td>6</td>\n",
              "      <td>10</td>\n",
              "      <td>1</td>\n",
              "      <td>3.53</td>\n",
              "      <td>CUST0000025672</td>\n",
              "      <td>XX</td>\n",
              "      <td>OT</td>\n",
              "      <td>M</td>\n",
              "      <td>Small Shop</td>\n",
              "      <td>Fresh</td>\n",
              "      <td>STORE02710</td>\n",
              "      <td>LS</td>\n",
              "      <td>E02</td>\n",
              "    </tr>\n",
              "    <tr>\n",
              "      <th>...</th>\n",
              "      <td>...</td>\n",
              "      <td>...</td>\n",
              "      <td>...</td>\n",
              "      <td>...</td>\n",
              "      <td>...</td>\n",
              "      <td>...</td>\n",
              "      <td>...</td>\n",
              "      <td>...</td>\n",
              "      <td>...</td>\n",
              "      <td>...</td>\n",
              "      <td>...</td>\n",
              "      <td>...</td>\n",
              "      <td>...</td>\n",
              "      <td>...</td>\n",
              "      <td>...</td>\n",
              "    </tr>\n",
              "    <tr>\n",
              "      <th>1040</th>\n",
              "      <td>200816</td>\n",
              "      <td>20080613</td>\n",
              "      <td>6</td>\n",
              "      <td>16</td>\n",
              "      <td>1</td>\n",
              "      <td>1.25</td>\n",
              "      <td>CUST0000984478</td>\n",
              "      <td>MM</td>\n",
              "      <td>OT</td>\n",
              "      <td>L</td>\n",
              "      <td>Full Shop</td>\n",
              "      <td>Fresh</td>\n",
              "      <td>STORE02599</td>\n",
              "      <td>LS</td>\n",
              "      <td>W01</td>\n",
              "    </tr>\n",
              "    <tr>\n",
              "      <th>1041</th>\n",
              "      <td>200816</td>\n",
              "      <td>20080613</td>\n",
              "      <td>6</td>\n",
              "      <td>16</td>\n",
              "      <td>1</td>\n",
              "      <td>1.24</td>\n",
              "      <td>CUST0000984478</td>\n",
              "      <td>MM</td>\n",
              "      <td>OT</td>\n",
              "      <td>L</td>\n",
              "      <td>Full Shop</td>\n",
              "      <td>Fresh</td>\n",
              "      <td>STORE02599</td>\n",
              "      <td>LS</td>\n",
              "      <td>W01</td>\n",
              "    </tr>\n",
              "    <tr>\n",
              "      <th>1042</th>\n",
              "      <td>200816</td>\n",
              "      <td>20080613</td>\n",
              "      <td>6</td>\n",
              "      <td>16</td>\n",
              "      <td>1</td>\n",
              "      <td>1.52</td>\n",
              "      <td>CUST0000984478</td>\n",
              "      <td>MM</td>\n",
              "      <td>OT</td>\n",
              "      <td>L</td>\n",
              "      <td>Full Shop</td>\n",
              "      <td>Fresh</td>\n",
              "      <td>STORE02599</td>\n",
              "      <td>LS</td>\n",
              "      <td>W01</td>\n",
              "    </tr>\n",
              "    <tr>\n",
              "      <th>1043</th>\n",
              "      <td>200816</td>\n",
              "      <td>20080613</td>\n",
              "      <td>6</td>\n",
              "      <td>16</td>\n",
              "      <td>1</td>\n",
              "      <td>1.49</td>\n",
              "      <td>CUST0000984478</td>\n",
              "      <td>MM</td>\n",
              "      <td>OT</td>\n",
              "      <td>L</td>\n",
              "      <td>Full Shop</td>\n",
              "      <td>Fresh</td>\n",
              "      <td>STORE02599</td>\n",
              "      <td>LS</td>\n",
              "      <td>W01</td>\n",
              "    </tr>\n",
              "    <tr>\n",
              "      <th>1044</th>\n",
              "      <td>200816</td>\n",
              "      <td>20080613</td>\n",
              "      <td>6</td>\n",
              "      <td>16</td>\n",
              "      <td>1</td>\n",
              "      <td>0.84</td>\n",
              "      <td>CUST0000984478</td>\n",
              "      <td>MM</td>\n",
              "      <td>OT</td>\n",
              "      <td>L</td>\n",
              "      <td>Full Shop</td>\n",
              "      <td>Fresh</td>\n",
              "      <td>STORE02599</td>\n",
              "      <td>LS</td>\n",
              "      <td>W01</td>\n",
              "    </tr>\n",
              "  </tbody>\n",
              "</table>\n",
              "<p>1045 rows × 15 columns</p>\n",
              "</div>"
            ],
            "text/plain": [
              "      SHOP_WEEK  SHOP_DATE  SHOP_WEEKDAY  ...  STORE_CODE  STORE_FORMAT  STORE_REGION\n",
              "0        200630   20060922             6  ...  STORE01071            LS           S01\n",
              "1        200809   20080427             1  ...  STORE01071            LS           S01\n",
              "2        200617   20060623             6  ...  STORE02710            LS           E02\n",
              "3        200617   20060623             6  ...  STORE02710            LS           E02\n",
              "4        200617   20060623             6  ...  STORE02710            LS           E02\n",
              "...         ...        ...           ...  ...         ...           ...           ...\n",
              "1040     200816   20080613             6  ...  STORE02599            LS           W01\n",
              "1041     200816   20080613             6  ...  STORE02599            LS           W01\n",
              "1042     200816   20080613             6  ...  STORE02599            LS           W01\n",
              "1043     200816   20080613             6  ...  STORE02599            LS           W01\n",
              "1044     200816   20080613             6  ...  STORE02599            LS           W01\n",
              "\n",
              "[1045 rows x 15 columns]"
            ]
          },
          "metadata": {},
          "execution_count": 30
        }
      ]
    },
    {
      "cell_type": "code",
      "metadata": {
        "colab": {
          "base_uri": "https://localhost:8080/"
        },
        "id": "9c8S_DSUjG4k",
        "outputId": "0aa7568f-65a9-46d0-d7bd-f73052f7b563"
      },
      "source": [
        "print(f\"The inconsistent customers spend around ${round(incons_merged_df['SPEND'].mean(),2)} on average per transaction\")\n",
        "print(f\"The inconsistent customers spend median: ${round(incons_merged_df['SPEND'].median(),2)}\")\n",
        "print(f\"The maximum amount inconsistent customers spend in a given transaction: ${round(incons_merged_df['SPEND'].max(),2)}\")\n",
        "print(f\"The minimum amount inconsistent customers spend in a given transaction: ${round(incons_merged_df['SPEND'].min(),2)}\")\n",
        "\n",
        "print(f\"Inconsistent customers buy around {int(incons_merged_df['QUANTITY'].mean())} item on average per transaction\")\n",
        "print(f\"Inconsistent customers bought a maximum of {int(incons_merged_df['QUANTITY'].max())} items in a transaction\")\n",
        "print(f\"Inconsistent customers usually come into the store on the {int(incons_merged_df['SHOP_WEEKDAY'].mean())} day at the {int(incons_merged_df['SHOP_HOUR'].mean())} hour\")"
      ],
      "execution_count": 31,
      "outputs": [
        {
          "output_type": "stream",
          "name": "stdout",
          "text": [
            "The inconsistent customers spend around $2.13 on average per transaction\n",
            "The inconsistent customers spend median: $1.2\n",
            "The maximum amount inconsistent customers spend in a given transaction: $89.92\n",
            "The minimum amount inconsistent customers spend in a given transaction: $0.01\n",
            "Inconsistent customers buy around 1 item on average per transaction\n",
            "Inconsistent customers bought a maximum of 16 items in a transaction\n",
            "Inconsistent customers usually come into the store on the 3 day at the 14 hour\n"
          ]
        }
      ]
    },
    {
      "cell_type": "code",
      "metadata": {
        "colab": {
          "base_uri": "https://localhost:8080/"
        },
        "id": "NehuCQXXlFJu",
        "outputId": "eaf313b8-e84c-4ccb-ceb3-b6cd16dbd4e7"
      },
      "source": [
        "# The majority of inconsistent customers have a lifestage of OT\n",
        "incons_merged_df['CUST_LIFESTAGE'].value_counts()"
      ],
      "execution_count": 32,
      "outputs": [
        {
          "output_type": "execute_result",
          "data": {
            "text/plain": [
              "OT    883\n",
              "YF     81\n",
              "YA     28\n",
              "PE     24\n",
              "OA     17\n",
              "OF     12\n",
              "Name: CUST_LIFESTAGE, dtype: int64"
            ]
          },
          "metadata": {},
          "execution_count": 32
        }
      ]
    },
    {
      "cell_type": "code",
      "metadata": {
        "colab": {
          "base_uri": "https://localhost:8080/"
        },
        "id": "sxIuoE7lLEGj",
        "outputId": "783e6518-f206-480a-8227-5111c1b7a79d"
      },
      "source": [
        "# The fresh and mixed basket missions are the most commmon\n",
        "incons_merged_df['BASKET_DOMINANT_MISSION'].value_counts()"
      ],
      "execution_count": 33,
      "outputs": [
        {
          "output_type": "execute_result",
          "data": {
            "text/plain": [
              "Fresh      610\n",
              "Mixed      331\n",
              "Grocery     77\n",
              "Nonfood     25\n",
              "XX           2\n",
              "Name: BASKET_DOMINANT_MISSION, dtype: int64"
            ]
          },
          "metadata": {},
          "execution_count": 33
        }
      ]
    },
    {
      "cell_type": "code",
      "metadata": {
        "colab": {
          "base_uri": "https://localhost:8080/"
        },
        "id": "bB-iO1yO1ri5",
        "outputId": "9e3aaa7c-ede0-4b96-c128-60abcb593d2a"
      },
      "source": [
        "# Inconsistent customers prefer to top up their materials \n",
        "incons_merged_df['BASKET_TYPE'].value_counts()"
      ],
      "execution_count": 34,
      "outputs": [
        {
          "output_type": "execute_result",
          "data": {
            "text/plain": [
              "Top Up        527\n",
              "Full Shop     354\n",
              "Small Shop    162\n",
              "XX              2\n",
              "Name: BASKET_TYPE, dtype: int64"
            ]
          },
          "metadata": {},
          "execution_count": 34
        }
      ]
    },
    {
      "cell_type": "code",
      "metadata": {
        "colab": {
          "base_uri": "https://localhost:8080/"
        },
        "id": "BVBP7vlsK2pK",
        "outputId": "d44fa4f2-0dce-4f56-a32f-16314dcc2c01"
      },
      "source": [
        "# Inconsistent customers prefer large or medium basket sizes\n",
        "incons_merged_df['BASKET_SIZE'].value_counts()"
      ],
      "execution_count": 35,
      "outputs": [
        {
          "output_type": "execute_result",
          "data": {
            "text/plain": [
              "L    690\n",
              "M    305\n",
              "S     50\n",
              "Name: BASKET_SIZE, dtype: int64"
            ]
          },
          "metadata": {},
          "execution_count": 35
        }
      ]
    },
    {
      "cell_type": "code",
      "metadata": {
        "colab": {
          "base_uri": "https://localhost:8080/"
        },
        "id": "5R2H0AYnLj2M",
        "outputId": "207474e8-6e41-46bb-d961-b0b4b342688b"
      },
      "source": [
        "# Inconsistent customers prefer large size stores\n",
        "incons_merged_df['STORE_FORMAT'].value_counts()"
      ],
      "execution_count": 36,
      "outputs": [
        {
          "output_type": "execute_result",
          "data": {
            "text/plain": [
              "LS     624\n",
              "XLS    188\n",
              "MS     169\n",
              "SS      64\n",
              "Name: STORE_FORMAT, dtype: int64"
            ]
          },
          "metadata": {},
          "execution_count": 36
        }
      ]
    },
    {
      "cell_type": "markdown",
      "metadata": {
        "id": "3INQraitGIZm"
      },
      "source": [
        "## Calculating ROI \n",
        "What would be the result of sending the inconsistent customers the offer. Each customer can only use the offer once.\n",
        "\n",
        "The retailer wants to send a $5 discount offer: \n",
        "- 10% offer response rate\n",
        "\n",
        "- 5% incremental spend (when a customer uses the offer they spend an extra 5% on transactions)\n",
        "\n",
        "- Costs the retailer $1 to send the offer\n",
        "\n",
        "- Costs the retailer $5 when a customer uses the offer"
      ]
    },
    {
      "cell_type": "code",
      "metadata": {
        "colab": {
          "base_uri": "https://localhost:8080/"
        },
        "id": "5eotjPyfPjhe",
        "outputId": "baea8dd7-3680-4ad2-9565-0388a5a01ca2"
      },
      "source": [
        "# Inconsistent customers spend around $2.13 on average during transactions\n",
        "# Since the offer can be only used once, assume that the customer spends $5. \n",
        "# With the 5% incremental this becomes $5.25\n",
        "\n",
        "INVESTMENT_COST = 70*1\n",
        "NET_RETURNS = (7*5.25) - (70*1) - (7*5)\n",
        "ROI = ((NET_RETURNS / INVESTMENT_COST) * 100)\n",
        "\n",
        "print(f\"The ROI is {round(ROI,2)} %\")"
      ],
      "execution_count": 37,
      "outputs": [
        {
          "output_type": "stream",
          "name": "stdout",
          "text": [
            "The ROI is -97.5 %\n"
          ]
        }
      ]
    },
    {
      "cell_type": "code",
      "metadata": {
        "colab": {
          "base_uri": "https://localhost:8080/"
        },
        "id": "iqczS1bd81ie",
        "outputId": "377b5142-424f-478f-dc70-260b2238b51e"
      },
      "source": [
        "INVESTMENT_COST = 70*0.80\n",
        "NET_RETURNS = (7*21) - (70*0.80) - (7*5)\n",
        "ROI = ((NET_RETURNS / INVESTMENT_COST) * 100)\n",
        "\n",
        "print(f\"The ROI is {round(ROI,2)} %\")"
      ],
      "execution_count": 38,
      "outputs": [
        {
          "output_type": "stream",
          "name": "stdout",
          "text": [
            "The ROI is 100.0 %\n"
          ]
        }
      ]
    }
  ]
}